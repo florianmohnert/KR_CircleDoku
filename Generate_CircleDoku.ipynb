{
 "cells": [
  {
   "cell_type": "code",
   "execution_count": 1,
   "metadata": {
    "collapsed": true
   },
   "outputs": [],
   "source": [
    "import numpy as np\n",
    "#import pycosat\n",
    "import timeit\n",
    "import time\n",
    "t = timeit.Timer('char in text', setup='text = \"sample string\"; char = \"g\"')"
   ]
  },
  {
   "cell_type": "code",
   "execution_count": 16,
   "metadata": {
    "collapsed": true
   },
   "outputs": [],
   "source": [
    "# this cell is concerned with generating valid filled circledokus\n",
    "\n",
    "# for a circledoku of 3 rings we represent in an array as follows\n",
    "#\n",
    "# ring:\n",
    "# [[1 1 1 1 1 1]\n",
    "#  [0 0 0 0 0 0]\n",
    "#  [0 0 0 0 0 0]]\n",
    "#\n",
    "# slice:\n",
    "# [[1 0 0 1 0 0]\n",
    "#  [1 0 0 1 0 0]\n",
    "#  [1 0 0 1 0 0]]\n",
    "#\n",
    "# wedge:\n",
    "# [[1 1 0 0 0 0]\n",
    "#  [1 1 0 0 0 0]\n",
    "#  [1 1 0 0 0 0]]\n",
    "\n",
    "def gen_full_circledoku(n): # a circledoku with n-rings\n",
    "    # this function fills a circledoku with a valid configuration\n",
    "    # it is later filtered to become a unique proper puzzle with minimal givens\n",
    "    succes = False\n",
    "    while not succes: \n",
    "        # if the computer runs into a dead-end by random assignment, just stop and start over\n",
    "        # this is very inefficient especially for larger circledoku's\n",
    "        # but in this generation step we are not troubled by efficiency\n",
    "        succes, doku = attempt_full_circledoku(n)\n",
    "#         print(\"succes\")\n",
    "#         print(succes)\n",
    "#         print(\"doku\")\n",
    "#         print(doku)\n",
    "#         print(\"\")\n",
    "    return doku\n",
    "            \n",
    "def attempt_full_circledoku(n):\n",
    "    maxDigit = 2*n\n",
    "    doku = np.zeros((n, maxDigit), dtype=np.int)\n",
    "    for i in range(n):\n",
    "        for j in range(maxDigit):\n",
    "            gen = [i, j, np.random.randint(1, maxDigit+1)]\n",
    "            count = 1\n",
    "            while not is_gen_valid(doku, gen):\n",
    "                gen = [i, j, np.random.randint(1, maxDigit+1)]\n",
    "                count += 1\n",
    "                if count > maxDigit*3:\n",
    "                    return False, doku\n",
    "            doku[i, j] = gen[2]\n",
    "    return True, doku\n",
    "\n",
    "def is_gen_valid(doku, gen):\n",
    "    # variable 'gen' is the digit the algorithm wants to genereate at certain position\n",
    "    # its syntax is [x, y, digit]\n",
    "    if is_gen_valid_for_ring(doku, gen) and is_gen_valid_for_slice(doku, gen) and is_gen_valid_for_wedge(doku, gen):\n",
    "        return True\n",
    "    else:\n",
    "        return False\n",
    "    \n",
    "def is_gen_valid_for_ring(doku, gen):\n",
    "    ring_content = doku[gen[0]][:]\n",
    "    if gen[2] in ring_content:\n",
    "        return False\n",
    "    else:\n",
    "        return True\n",
    "\n",
    "def is_gen_valid_for_slice(doku, gen):\n",
    "    n = len(doku)\n",
    "    n_slice = gen[1] % n\n",
    "    slice_content = doku.transpose()[n_slice::n][:]\n",
    "    if gen[2] in slice_content:\n",
    "        return False\n",
    "    else:\n",
    "        return True\n",
    "    \n",
    "def is_gen_valid_for_wedge(doku, gen):\n",
    "    n = len(doku)\n",
    "    n_wedge = int(gen[1] / 2)\n",
    "    wedge_content = doku.transpose()[n_wedge*2:n_wedge*2+2][:]\n",
    "    if gen[2] in wedge_content:\n",
    "        return False\n",
    "    else:\n",
    "        return True\n",
    "\n",
    "\n",
    "#for n in range(2,6):\n",
    " #   for i in range(4): \n",
    "   #     #start = t.timeit()\n",
    "  #      start = time.clock()\n",
    "    #    doku = gen_full_circledoku(n)\n",
    "     #   filename = 'valid_circledoku_' + str(n) +'_rings_#'+str(i)\n",
    "      #  np.savetxt(filename, doku, fmt='%i', delimiter=',', newline='\\n' )\n",
    "       # #end = t.timeit()\n",
    "        #print(\"generating \", filename, \" took \", time.clock() - start, \"seconds\")"
   ]
  },
  {
   "cell_type": "code",
   "execution_count": 22,
   "metadata": {},
   "outputs": [
    {
     "data": {
      "text/plain": [
       "array([[4, 1, 3, 2],\n",
       "       [2, 3, 1, 4]])"
      ]
     },
     "execution_count": 22,
     "metadata": {},
     "output_type": "execute_result"
    }
   ],
   "source": [
    "gen_full_circledoku(2)"
   ]
  },
  {
   "cell_type": "code",
   "execution_count": 19,
   "metadata": {},
   "outputs": [
    {
     "name": "stdout",
     "output_type": "stream",
     "text": [
      "[[ 1.  4.  3.  2.]\n",
      " [ 4.  3.  2.  1.]]\n"
     ]
    }
   ],
   "source": [
    "a = np.loadtxt('valid_circledoku_2_rings_#0', delimiter=',' )\n",
    "\n",
    "print(a)\n",
    "\n",
    "\n",
    "    "
   ]
  },
  {
   "cell_type": "code",
   "execution_count": null,
   "metadata": {
    "collapsed": true
   },
   "outputs": [],
   "source": []
  }
 ],
 "metadata": {
  "kernelspec": {
   "display_name": "Python 3",
   "language": "python",
   "name": "python3"
  },
  "language_info": {
   "codemirror_mode": {
    "name": "ipython",
    "version": 3
   },
   "file_extension": ".py",
   "mimetype": "text/x-python",
   "name": "python",
   "nbconvert_exporter": "python",
   "pygments_lexer": "ipython3",
   "version": "3.6.1"
  }
 },
 "nbformat": 4,
 "nbformat_minor": 2
}
