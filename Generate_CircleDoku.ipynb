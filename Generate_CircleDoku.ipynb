{
 "cells": [
  {
   "cell_type": "code",
   "execution_count": 2,
   "metadata": {
    "collapsed": true
   },
   "outputs": [],
   "source": [
    "import numpy as np\n",
    "import pycosat\n",
    "import time"
   ]
  },
  {
   "cell_type": "code",
   "execution_count": 3,
   "metadata": {
    "collapsed": true
   },
   "outputs": [],
   "source": [
    "# this cell is responsible for generating valid filled circledokus\n",
    "\n",
    "# for a circledoku of 3 rings we represent in an array as follows\n",
    "#\n",
    "# ring:\n",
    "# [[1 1 1 1 1 1]\n",
    "#  [0 0 0 0 0 0]\n",
    "#  [0 0 0 0 0 0]]\n",
    "#\n",
    "# slice:\n",
    "# [[1 0 0 1 0 0]\n",
    "#  [1 0 0 1 0 0]\n",
    "#  [1 0 0 1 0 0]]\n",
    "#\n",
    "# wedge:\n",
    "# [[1 1 0 0 0 0]\n",
    "#  [1 1 0 0 0 0]\n",
    "#  [1 1 0 0 0 0]]\n",
    "\n",
    "def gen_full_circledoku(n): # a circledoku with n-rings\n",
    "    # this function fills a circledoku with a valid configuration\n",
    "    # it is later filtered to become a unique proper puzzle with minimal givens, outside of this cell\n",
    "    succes = False\n",
    "    n_attempt = 0\n",
    "    while not succes: \n",
    "        # if the computer runs into a dead-end by random assignment, just stop and start over\n",
    "        # this is very inefficient especially for larger circledoku's\n",
    "        # but in this generation step we are not troubled by efficiency\n",
    "        succes, doku = attempt_full_circledoku(n)\n",
    "#         past_attempt.append(doku)\n",
    "        n_attempt += 1\n",
    "    print(\"succes took \", n_attempt, \" attempts\")\n",
    "    return doku\n",
    "            \n",
    "def attempt_full_circledoku(n):\n",
    "    maxDigit = 2*n\n",
    "    doku = np.zeros((n, maxDigit), dtype=np.int)\n",
    "    for i in range(n):\n",
    "        values = [] # a list of numbers to choose from\n",
    "        for n in range(1, maxDigit+1):\n",
    "            values.append(n)\n",
    "        for j in range(maxDigit):\n",
    "            value = values[np.random.randint(0, len(values))]             \n",
    "            gen = [i, j, value]\n",
    "            count = 1\n",
    "            while not is_gen_valid(doku, gen):\n",
    "                idx = np.random.randint(0, len(values))\n",
    "                gen = [i, j, values[idx]]\n",
    "                values.pop(idx)\n",
    "                count += 1\n",
    "                if len(values) == 0:\n",
    "                    return False, doku\n",
    "            doku[i, j] = gen[2]\n",
    "    return True, doku\n",
    "\n",
    "def is_gen_valid(doku, gen):\n",
    "    # variable 'gen' is the digit the algorithm wants to genereate at certain position\n",
    "    # its syntax is [x, y, digit]\n",
    "    if is_gen_valid_for_ring(doku, gen) and is_gen_valid_for_slice(doku, gen) and is_gen_valid_for_wedge(doku, gen):\n",
    "        return True\n",
    "    else:\n",
    "        return False\n",
    "    \n",
    "def is_gen_valid_for_ring(doku, gen):\n",
    "    ring_content = doku[gen[0]][:]\n",
    "    if gen[2] in ring_content:\n",
    "        return False\n",
    "    else:\n",
    "        return True\n",
    "\n",
    "def is_gen_valid_for_slice(doku, gen):\n",
    "    n = len(doku)\n",
    "    n_slice = gen[1] % n\n",
    "    slice_content = doku.transpose()[n_slice::n][:]\n",
    "    if gen[2] in slice_content:\n",
    "        return False\n",
    "    else:\n",
    "        return True\n",
    "    \n",
    "def is_gen_valid_for_wedge(doku, gen):\n",
    "    n = len(doku)\n",
    "    n_wedge = int(gen[1] / 2)\n",
    "    wedge_content = doku.transpose()[n_wedge*2:n_wedge*2+2][:]\n",
    "    if gen[2] in wedge_content:\n",
    "        return False\n",
    "    else:\n",
    "        return True\n",
    "\n",
    "def construct_database():\n",
    "    for n in [4,6,7,10]:\n",
    "        k = 50 # amount of puzzles to generate per size/nRings\n",
    "        for i in range(k):\n",
    "            tic = time.clock()\n",
    "            doku = gen_full_circledoku(n)\n",
    "            toc = time.clock()\n",
    "            print(\"Circledoku order:\", n, \", nr: \", i, \" took \", toc-tic, \"seconds\")\n",
    "            filename_small = \"CircleDoku_nrings\" + str(n) + \"_#\" +str(i)\n",
    "            np.savetxt(filename_small, doku, fmt='%i', delimiter=',', newline='\\n' )        \n",
    "        collect_smalls_to_big(n, k-1)\n",
    "        \n",
    "def collect_smalls_to_big(nRings, nPuzzles):\n",
    "    filename_big = \"CircleDokuDatabase_for_size_\" + str(nRings)\n",
    "    with open(filename_big, 'w'): pass # clear the file\n",
    "    f=open(filename_big,'ab')\n",
    "    for i in range(nPuzzles):\n",
    "        filename_small = \"CircleDoku_nrings\"+str(nRings)+\"_#\"+str(nPuzzles)\n",
    "        doku = np.loadtxt(filename_small, delimiter=',')\n",
    "        np.savetxt(f, doku, fmt='%i', delimiter=',', newline='\\n' )\n",
    "    f.close()"
   ]
  },
  {
   "cell_type": "code",
   "execution_count": 28,
   "metadata": {},
   "outputs": [
    {
     "ename": "KeyboardInterrupt",
     "evalue": "",
     "output_type": "error",
     "traceback": [
      "\u001b[1;31m---------------------------------------------------------------------------\u001b[0m",
      "\u001b[1;31mKeyboardInterrupt\u001b[0m                         Traceback (most recent call last)",
      "\u001b[1;32m<ipython-input-28-b56ef52e0315>\u001b[0m in \u001b[0;36m<module>\u001b[1;34m()\u001b[0m\n\u001b[0;32m      8\u001b[0m \u001b[1;31m# in their respective small_txt file, and can be read out with a separate call to collect_smalls_to_big\u001b[0m\u001b[1;33m\u001b[0m\u001b[1;33m\u001b[0m\u001b[0m\n\u001b[0;32m      9\u001b[0m \u001b[1;31m# However, this might take a while\u001b[0m\u001b[1;33m\u001b[0m\u001b[1;33m\u001b[0m\u001b[0m\n\u001b[1;32m---> 10\u001b[1;33m \u001b[0mconstruct_database\u001b[0m\u001b[1;33m(\u001b[0m\u001b[1;33m)\u001b[0m\u001b[1;33m\u001b[0m\u001b[0m\n\u001b[0m\u001b[0;32m     11\u001b[0m \u001b[1;31m#collect_smalls_to_big(3, 8)\u001b[0m\u001b[1;33m\u001b[0m\u001b[1;33m\u001b[0m\u001b[0m\n",
      "\u001b[1;32m<ipython-input-27-a18f254000a9>\u001b[0m in \u001b[0;36mconstruct_database\u001b[1;34m()\u001b[0m\n\u001b[0;32m     92\u001b[0m         \u001b[1;32mfor\u001b[0m \u001b[0mi\u001b[0m \u001b[1;32min\u001b[0m \u001b[0mrange\u001b[0m\u001b[1;33m(\u001b[0m\u001b[0mk\u001b[0m\u001b[1;33m)\u001b[0m\u001b[1;33m:\u001b[0m\u001b[1;33m\u001b[0m\u001b[0m\n\u001b[0;32m     93\u001b[0m             \u001b[0mtic\u001b[0m \u001b[1;33m=\u001b[0m \u001b[0mtime\u001b[0m\u001b[1;33m.\u001b[0m\u001b[0mclock\u001b[0m\u001b[1;33m(\u001b[0m\u001b[1;33m)\u001b[0m\u001b[1;33m\u001b[0m\u001b[0m\n\u001b[1;32m---> 94\u001b[1;33m             \u001b[0mdoku\u001b[0m \u001b[1;33m=\u001b[0m \u001b[0mgen_full_circledoku\u001b[0m\u001b[1;33m(\u001b[0m\u001b[0mn\u001b[0m\u001b[1;33m)\u001b[0m\u001b[1;33m\u001b[0m\u001b[0m\n\u001b[0m\u001b[0;32m     95\u001b[0m             \u001b[0mtoc\u001b[0m \u001b[1;33m=\u001b[0m \u001b[0mtime\u001b[0m\u001b[1;33m.\u001b[0m\u001b[0mclock\u001b[0m\u001b[1;33m(\u001b[0m\u001b[1;33m)\u001b[0m\u001b[1;33m\u001b[0m\u001b[0m\n\u001b[0;32m     96\u001b[0m             \u001b[0mprint\u001b[0m\u001b[1;33m(\u001b[0m\u001b[1;34m\"Circledoku order:\"\u001b[0m\u001b[1;33m,\u001b[0m \u001b[0mn\u001b[0m\u001b[1;33m,\u001b[0m \u001b[1;34m\", nr: \"\u001b[0m\u001b[1;33m,\u001b[0m \u001b[0mi\u001b[0m\u001b[1;33m,\u001b[0m \u001b[1;34m\" took \"\u001b[0m\u001b[1;33m,\u001b[0m \u001b[0mtoc\u001b[0m\u001b[1;33m-\u001b[0m\u001b[0mtic\u001b[0m\u001b[1;33m,\u001b[0m \u001b[1;34m\"seconds\"\u001b[0m\u001b[1;33m)\u001b[0m\u001b[1;33m\u001b[0m\u001b[0m\n",
      "\u001b[1;32m<ipython-input-27-a18f254000a9>\u001b[0m in \u001b[0;36mgen_full_circledoku\u001b[1;34m(n)\u001b[0m\n\u001b[0;32m     27\u001b[0m         \u001b[1;31m# this is very inefficient especially for larger circledoku's\u001b[0m\u001b[1;33m\u001b[0m\u001b[1;33m\u001b[0m\u001b[0m\n\u001b[0;32m     28\u001b[0m         \u001b[1;31m# but in this generation step we are not troubled by efficiency\u001b[0m\u001b[1;33m\u001b[0m\u001b[1;33m\u001b[0m\u001b[0m\n\u001b[1;32m---> 29\u001b[1;33m         \u001b[0msucces\u001b[0m\u001b[1;33m,\u001b[0m \u001b[0mdoku\u001b[0m \u001b[1;33m=\u001b[0m \u001b[0mattempt_full_circledoku\u001b[0m\u001b[1;33m(\u001b[0m\u001b[0mn\u001b[0m\u001b[1;33m)\u001b[0m\u001b[1;33m\u001b[0m\u001b[0m\n\u001b[0m\u001b[0;32m     30\u001b[0m \u001b[1;31m#         past_attempt.append(doku)\u001b[0m\u001b[1;33m\u001b[0m\u001b[1;33m\u001b[0m\u001b[0m\n\u001b[0;32m     31\u001b[0m         \u001b[0mn_attempt\u001b[0m \u001b[1;33m+=\u001b[0m \u001b[1;36m1\u001b[0m\u001b[1;33m\u001b[0m\u001b[0m\n",
      "\u001b[1;32m<ipython-input-27-a18f254000a9>\u001b[0m in \u001b[0;36mattempt_full_circledoku\u001b[1;34m(n)\u001b[0m\n\u001b[0;32m     44\u001b[0m             \u001b[0mgen\u001b[0m \u001b[1;33m=\u001b[0m \u001b[1;33m[\u001b[0m\u001b[0mi\u001b[0m\u001b[1;33m,\u001b[0m \u001b[0mj\u001b[0m\u001b[1;33m,\u001b[0m \u001b[0mvalue\u001b[0m\u001b[1;33m]\u001b[0m\u001b[1;33m\u001b[0m\u001b[0m\n\u001b[0;32m     45\u001b[0m             \u001b[0mcount\u001b[0m \u001b[1;33m=\u001b[0m \u001b[1;36m1\u001b[0m\u001b[1;33m\u001b[0m\u001b[0m\n\u001b[1;32m---> 46\u001b[1;33m             \u001b[1;32mwhile\u001b[0m \u001b[1;32mnot\u001b[0m \u001b[0mis_gen_valid\u001b[0m\u001b[1;33m(\u001b[0m\u001b[0mdoku\u001b[0m\u001b[1;33m,\u001b[0m \u001b[0mgen\u001b[0m\u001b[1;33m)\u001b[0m\u001b[1;33m:\u001b[0m\u001b[1;33m\u001b[0m\u001b[0m\n\u001b[0m\u001b[0;32m     47\u001b[0m                 \u001b[0midx\u001b[0m \u001b[1;33m=\u001b[0m \u001b[0mnp\u001b[0m\u001b[1;33m.\u001b[0m\u001b[0mrandom\u001b[0m\u001b[1;33m.\u001b[0m\u001b[0mrandint\u001b[0m\u001b[1;33m(\u001b[0m\u001b[1;36m0\u001b[0m\u001b[1;33m,\u001b[0m \u001b[0mlen\u001b[0m\u001b[1;33m(\u001b[0m\u001b[0mvalues\u001b[0m\u001b[1;33m)\u001b[0m\u001b[1;33m)\u001b[0m\u001b[1;33m\u001b[0m\u001b[0m\n\u001b[0;32m     48\u001b[0m                 \u001b[0mgen\u001b[0m \u001b[1;33m=\u001b[0m \u001b[1;33m[\u001b[0m\u001b[0mi\u001b[0m\u001b[1;33m,\u001b[0m \u001b[0mj\u001b[0m\u001b[1;33m,\u001b[0m \u001b[0mvalues\u001b[0m\u001b[1;33m[\u001b[0m\u001b[0midx\u001b[0m\u001b[1;33m]\u001b[0m\u001b[1;33m]\u001b[0m\u001b[1;33m\u001b[0m\u001b[0m\n",
      "\u001b[1;32m<ipython-input-27-a18f254000a9>\u001b[0m in \u001b[0;36mis_gen_valid\u001b[1;34m(doku, gen)\u001b[0m\n\u001b[0;32m     57\u001b[0m     \u001b[1;31m# variable 'gen' is the digit the algorithm wants to genereate at certain position\u001b[0m\u001b[1;33m\u001b[0m\u001b[1;33m\u001b[0m\u001b[0m\n\u001b[0;32m     58\u001b[0m     \u001b[1;31m# its syntax is [x, y, digit]\u001b[0m\u001b[1;33m\u001b[0m\u001b[1;33m\u001b[0m\u001b[0m\n\u001b[1;32m---> 59\u001b[1;33m     \u001b[1;32mif\u001b[0m \u001b[0mis_gen_valid_for_ring\u001b[0m\u001b[1;33m(\u001b[0m\u001b[0mdoku\u001b[0m\u001b[1;33m,\u001b[0m \u001b[0mgen\u001b[0m\u001b[1;33m)\u001b[0m \u001b[1;32mand\u001b[0m \u001b[0mis_gen_valid_for_slice\u001b[0m\u001b[1;33m(\u001b[0m\u001b[0mdoku\u001b[0m\u001b[1;33m,\u001b[0m \u001b[0mgen\u001b[0m\u001b[1;33m)\u001b[0m \u001b[1;32mand\u001b[0m \u001b[0mis_gen_valid_for_wedge\u001b[0m\u001b[1;33m(\u001b[0m\u001b[0mdoku\u001b[0m\u001b[1;33m,\u001b[0m \u001b[0mgen\u001b[0m\u001b[1;33m)\u001b[0m\u001b[1;33m:\u001b[0m\u001b[1;33m\u001b[0m\u001b[0m\n\u001b[0m\u001b[0;32m     60\u001b[0m         \u001b[1;32mreturn\u001b[0m \u001b[1;32mTrue\u001b[0m\u001b[1;33m\u001b[0m\u001b[0m\n\u001b[0;32m     61\u001b[0m     \u001b[1;32melse\u001b[0m\u001b[1;33m:\u001b[0m\u001b[1;33m\u001b[0m\u001b[0m\n",
      "\u001b[1;31mKeyboardInterrupt\u001b[0m: "
     ]
    }
   ],
   "source": [
    "# in this cell you can see how generating database works\n",
    "\n",
    "# the following call will create 50 circledokus for a few sizes (indicated in the function)\n",
    "# it writes every sudoku to its own txt file\n",
    "# when all is done it writes all to a bigger file that contains all puzzles of size nRings\n",
    "# the advantage is that heavy calculation is only performed when the big txt file is closed\n",
    "# when the calculation is broken off before 50, all the intermediate puzzles will still be saved\n",
    "# in their respective small_txt file, and can be read out with a separate call to collect_smalls_to_big\n",
    "# However, this might take a while\n",
    "construct_database() \n",
    "#collect_smalls_to_big(3, 8) "
   ]
  },
  {
   "cell_type": "code",
   "execution_count": 4,
   "metadata": {},
   "outputs": [
    {
     "data": {
      "text/plain": [
       "array([[[  8.,   4.,   3.,   2.,  10.,   6.,   1.,   9.,   5.,   7.],\n",
       "        [  3.,   9.,   1.,   4.,   5.,   7.,  10.,   6.,   8.,   2.],\n",
       "        [  5.,   2.,  10.,   9.,   1.,   4.,   8.,   7.,   3.,   6.],\n",
       "        [  1.,   6.,   8.,   7.,   3.,   2.,   5.,   4.,  10.,   9.],\n",
       "        [ 10.,   7.,   5.,   6.,   8.,   9.,   3.,   2.,   1.,   4.]],\n",
       "\n",
       "       [[  5.,   2.,   8.,   6.,   9.,   3.,   7.,   4.,  10.,   1.],\n",
       "        [  7.,   4.,   9.,   3.,   5.,   1.,  10.,   6.,   8.,   2.],\n",
       "        [  8.,   6.,   7.,   1.,  10.,   4.,   9.,   2.,   5.,   3.],\n",
       "        [  9.,   3.,  10.,   4.,   8.,   2.,   5.,   1.,   7.,   6.],\n",
       "        [ 10.,   1.,   5.,   2.,   7.,   6.,   8.,   3.,   9.,   4.]],\n",
       "\n",
       "       [[  8.,   7.,   9.,  10.,   5.,   1.,   3.,   4.,   6.,   2.],\n",
       "        [  5.,  10.,   3.,   2.,   6.,   4.,   9.,   1.,   8.,   7.],\n",
       "        [  6.,   4.,   5.,   1.,   3.,   7.,   8.,   2.,   9.,  10.],\n",
       "        [  9.,   2.,   6.,   4.,   8.,  10.,   5.,   7.,   3.,   1.],\n",
       "        [  3.,   1.,   8.,   7.,   9.,   2.,   6.,  10.,   5.,   4.]]])"
      ]
     },
     "execution_count": 4,
     "metadata": {},
     "output_type": "execute_result"
    }
   ],
   "source": [
    "# this file read the big txt file to a 3d array, puzzles-rows-columns\n",
    "\n",
    "def load_circleDoku_database(n):\n",
    "    filename = \"CircleDokuDatabase_for_size_\"+str(n)\n",
    "    a = np.loadtxt(filename, delimiter=',' )\n",
    "    nDoku = int(len(a)/n)\n",
    "    a = a.reshape(((nDoku, n, 2*n)))\n",
    "    return a\n",
    "\n",
    "load_circleDoku_database(5)"
   ]
  }
 ],
 "metadata": {
  "kernelspec": {
   "display_name": "Python 3",
   "language": "python",
   "name": "python3"
  },
  "language_info": {
   "codemirror_mode": {
    "name": "ipython",
    "version": 3
   },
   "file_extension": ".py",
   "mimetype": "text/x-python",
   "name": "python",
   "nbconvert_exporter": "python",
   "pygments_lexer": "ipython3",
   "version": "3.6.1"
  }
 },
 "nbformat": 4,
 "nbformat_minor": 2
}
