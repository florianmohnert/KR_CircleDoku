{
 "cells": [
  {
   "cell_type": "code",
   "execution_count": 127,
   "metadata": {
    "collapsed": true
   },
   "outputs": [],
   "source": [
    "import numpy as np\n",
    "import pycosat\n",
    "import itertools"
   ]
  },
  {
   "cell_type": "code",
   "execution_count": 103,
   "metadata": {
    "collapsed": true
   },
   "outputs": [],
   "source": [
    "def initialize(n):\n",
    "    names = np.zeros([n,2*n,2*n],dtype=np.int)\n",
    "    for i in range(n):\n",
    "        for j in range(2*n):\n",
    "            for k in range(2*n):\n",
    "                names[i][j][k]= i*(2*n)**2 + j*2*n + k+1\n",
    "    return names.tolist()\n",
    "\n",
    "def encode_at_most_one(cnf, names, show):\n",
    "    if show:\n",
    "        print(\"enter function encode_at_most_one\")\n",
    "    n = len(names)\n",
    "    #enc = []\n",
    "    for i in range(n):\n",
    "        for j in range(2*n):\n",
    "            if show:\n",
    "                print(\"in row \", i, \", column\", j, \", there may only be at most 1 number, hence the following clauses:\")\n",
    "            for k in range(2*n):\n",
    "                for l in range(1,(2*n)-k):\n",
    "                    arr = [-1*names[i][j][k],-1*names[i][j][k+l]]\n",
    "                    if show:\n",
    "                        print(arr)\n",
    "                    per_entry = cnf.insert(0,arr)\n",
    "    return cnf\n",
    "\n",
    "def encode_at_least_one(cnf,names,show):\n",
    "    if show:\n",
    "        print(\"enter function encode_at_least_one\")\n",
    "        print(\"for every field we expect a clause of\", len(names[0]), \"positive literals:\")\n",
    "    for i in names:\n",
    "        atleast=[]\n",
    "        for j in i:\n",
    "            atleast.append(j)\n",
    "            if show:\n",
    "                print(j)\n",
    "        cnf.extend(atleast)\n",
    "    return cnf\n",
    "    \n",
    "def encode_exactly_one(cnf, names, show):\n",
    "    if show:\n",
    "        print(\"enter function encode_exactly_one\")\n",
    "    full = []\n",
    "    full.extend(encode_at_most_one(cnf, names, show))\n",
    "    full.extend(encode_at_least_one(cnf, names, show))\n",
    "    return full\n",
    "\n",
    "\n",
    "\n",
    "def encode_doku_as_cnf(names, show):\n",
    "    cnf = []\n",
    "    encode_exactly_one(cnf, names, show)\n",
    "    if show:\n",
    "        print(\"the doku is now translated to propositional logic in cnf format\")\n",
    "    return cnf"
   ]
  },
  {
   "cell_type": "code",
   "execution_count": 4,
   "metadata": {
    "collapsed": false
   },
   "outputs": [
    {
     "name": "stdout",
     "output_type": "stream",
     "text": [
      "enter function encode_exactly_one\n",
      "enter function encode_at_most_one\n",
      "in row  0 , column 0 , there may only be at most 1 number, hence the following clauses:\n",
      "[-1, -2]\n",
      "[-1, -3]\n",
      "[-1, -4]\n",
      "[-2, -3]\n",
      "[-2, -4]\n",
      "[-3, -4]\n",
      "in row  0 , column 1 , there may only be at most 1 number, hence the following clauses:\n",
      "[-5, -6]\n",
      "[-5, -7]\n",
      "[-5, -8]\n",
      "[-6, -7]\n",
      "[-6, -8]\n",
      "[-7, -8]\n",
      "in row  0 , column 2 , there may only be at most 1 number, hence the following clauses:\n",
      "[-9, -10]\n",
      "[-9, -11]\n",
      "[-9, -12]\n",
      "[-10, -11]\n",
      "[-10, -12]\n",
      "[-11, -12]\n",
      "in row  0 , column 3 , there may only be at most 1 number, hence the following clauses:\n",
      "[-13, -14]\n",
      "[-13, -15]\n",
      "[-13, -16]\n",
      "[-14, -15]\n",
      "[-14, -16]\n",
      "[-15, -16]\n",
      "in row  1 , column 0 , there may only be at most 1 number, hence the following clauses:\n",
      "[-17, -18]\n",
      "[-17, -19]\n",
      "[-17, -20]\n",
      "[-18, -19]\n",
      "[-18, -20]\n",
      "[-19, -20]\n",
      "in row  1 , column 1 , there may only be at most 1 number, hence the following clauses:\n",
      "[-21, -22]\n",
      "[-21, -23]\n",
      "[-21, -24]\n",
      "[-22, -23]\n",
      "[-22, -24]\n",
      "[-23, -24]\n",
      "in row  1 , column 2 , there may only be at most 1 number, hence the following clauses:\n",
      "[-25, -26]\n",
      "[-25, -27]\n",
      "[-25, -28]\n",
      "[-26, -27]\n",
      "[-26, -28]\n",
      "[-27, -28]\n",
      "in row  1 , column 3 , there may only be at most 1 number, hence the following clauses:\n",
      "[-29, -30]\n",
      "[-29, -31]\n",
      "[-29, -32]\n",
      "[-30, -31]\n",
      "[-30, -32]\n",
      "[-31, -32]\n",
      "enter function encode_at_least_one\n",
      "for every field we expect a clause of 4 positive literals:\n",
      "[1, 2, 3, 4]\n",
      "[5, 6, 7, 8]\n",
      "[9, 10, 11, 12]\n",
      "[13, 14, 15, 16]\n",
      "[17, 18, 19, 20]\n",
      "[21, 22, 23, 24]\n",
      "[25, 26, 27, 28]\n",
      "[29, 30, 31, 32]\n",
      "the doku is now translated to propositional logic in cnf format\n",
      "[[-31, -32], [-30, -32], [-30, -31], [-29, -32], [-29, -31], [-29, -30], [-27, -28], [-26, -28], [-26, -27], [-25, -28], [-25, -27], [-25, -26], [-23, -24], [-22, -24], [-22, -23], [-21, -24], [-21, -23], [-21, -22], [-19, -20], [-18, -20], [-18, -19], [-17, -20], [-17, -19], [-17, -18], [-15, -16], [-14, -16], [-14, -15], [-13, -16], [-13, -15], [-13, -14], [-11, -12], [-10, -12], [-10, -11], [-9, -12], [-9, -11], [-9, -10], [-7, -8], [-6, -8], [-6, -7], [-5, -8], [-5, -7], [-5, -6], [-3, -4], [-2, -4], [-2, -3], [-1, -4], [-1, -3], [-1, -2], [1, 2, 3, 4], [5, 6, 7, 8], [9, 10, 11, 12], [13, 14, 15, 16], [17, 18, 19, 20], [21, 22, 23, 24], [25, 26, 27, 28], [29, 30, 31, 32]]\n"
     ]
    },
    {
     "data": {
      "text/plain": [
       "[-1,\n",
       " -2,\n",
       " -3,\n",
       " 4,\n",
       " -5,\n",
       " -6,\n",
       " -7,\n",
       " 8,\n",
       " -9,\n",
       " -10,\n",
       " -11,\n",
       " 12,\n",
       " -13,\n",
       " -14,\n",
       " -15,\n",
       " 16,\n",
       " -17,\n",
       " -18,\n",
       " -19,\n",
       " 20,\n",
       " -21,\n",
       " -22,\n",
       " -23,\n",
       " 24,\n",
       " -25,\n",
       " -26,\n",
       " -27,\n",
       " 28,\n",
       " -29,\n",
       " -30,\n",
       " -31,\n",
       " 32]"
      ]
     },
     "execution_count": 4,
     "metadata": {},
     "output_type": "execute_result"
    }
   ],
   "source": [
    "##### EXAMPLE\n",
    "doku = initialize(2)\n",
    "example = encode_doku_as_cnf(doku, True)\n",
    "print( example )\n",
    "pycosat.solve(example)"
   ]
  },
  {
   "cell_type": "code",
   "execution_count": 46,
   "metadata": {
    "collapsed": false,
    "scrolled": true
   },
   "outputs": [
    {
     "name": "stdout",
     "output_type": "stream",
     "text": [
      "[[[ 1  2  3  4]\n",
      "  [ 5  6  7  8]\n",
      "  [ 9 10 11 12]\n",
      "  [13 14 15 16]]\n",
      "\n",
      " [[17 18 19 20]\n",
      "  [21 22 23 24]\n",
      "  [25 26 27 28]\n",
      "  [29 30 31 32]]]\n"
     ]
    }
   ],
   "source": [
    "a = initialize(2)\n",
    "\n",
    "a=np.array(a)\n",
    "\n",
    "a[:,::2].tolist()\n",
    "print(a)"
   ]
  },
  {
   "cell_type": "code",
   "execution_count": 158,
   "metadata": {
    "collapsed": false
   },
   "outputs": [],
   "source": [
    "def getslice(k,names):\n",
    "    cnf = []\n",
    "    slice_C = []\n",
    "    n = len(names)\n",
    "    for i in range(n):\n",
    "        for j in range(k,2*n,n):\n",
    "            a = names[i][j]\n",
    "            slice_C.append(a)\n",
    "            \n",
    "    return slice_C\n",
    "\n",
    "def slice_cnf(names):\n",
    "    cnf = []\n",
    "    for i in range(n):\n",
    "        sliced = getslice(i,names)\n",
    "        atleast_n =[]\n",
    "        comb_n = []\n",
    "        for l in range(2*n):\n",
    "            atleast= [k[l] for k in sliced]\n",
    "            atleast_n.append(atleast)\n",
    "            atleast_neg = [-x for x in atleast]\n",
    "            comb = [list(z) for z in itertools.combinations(atleast_neg,n)]\n",
    "            \n",
    "           \n",
    "            atleast_n.append(comb)\n",
    "        cnf.append(atleast_n)\n",
    "        #cnf.append(comb_n)\n",
    "    return cnf"
   ]
  },
  {
   "cell_type": "code",
   "execution_count": null,
   "metadata": {
    "collapsed": true
   },
   "outputs": [],
   "source": []
  }
 ],
 "metadata": {
  "kernelspec": {
   "display_name": "Python 3",
   "language": "python",
   "name": "python3"
  },
  "language_info": {
   "codemirror_mode": {
    "name": "ipython",
    "version": 3
   },
   "file_extension": ".py",
   "mimetype": "text/x-python",
   "name": "python",
   "nbconvert_exporter": "python",
   "pygments_lexer": "ipython3",
   "version": "3.6.0"
  }
 },
 "nbformat": 4,
 "nbformat_minor": 2
}
