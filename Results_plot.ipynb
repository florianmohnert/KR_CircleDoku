{
 "cells": [
  {
   "cell_type": "code",
   "execution_count": null,
   "metadata": {
    "collapsed": true
   },
   "outputs": [],
   "source": [
    "### data for Circledokus\n",
    "\n",
    "\n",
    "import Circledoku\n",
    "import pycosat\n",
    "import numpy as np\n",
    "\n",
    "\n",
    "# load a database of a given size\n",
    "dokubase = Circledoku.load_circleDoku_database(3, \"reduced\")\n",
    "# retrive a cdoku\n",
    "doku = dokubase[2]\n",
    "# encode it as cnf\n",
    "cnfe = Circledoku.encode_doku_as_cnf(doku, False)\n",
    "# encode it to DIMAC\n",
    "Circledoku.to_DIMAC_file(cnfe, \"final_cdoku.cnf\", 10)\n",
    "\n",
    "\n",
    "## In the shell run\n",
    "# ./walksat final_cdoku.cnf\n",
    "\n",
    "\n",
    "# we collected the data manually as we had problems of running walksat in python\n",
    "\n",
    "## collected the metric: average number of flips per assignment"
   ]
  },
  {
   "cell_type": "code",
   "execution_count": null,
   "metadata": {
    "collapsed": true
   },
   "outputs": [],
   "source": [
    "import Sudoku\n",
    "\n",
    "\n",
    "\n",
    "\n",
    "# load a database of a given size\n",
    "\n",
    "dokubase = Sudoku.load_sudoku_database(3, \"reduced\")\n",
    "# retrive a doku\n",
    "doku = dokubase[1]\n",
    "# encode it as cnf\n",
    "cnfe = Sudoku.encode_sudoku_as_cnf(doku, False)\n",
    "# encode as DIMAC\n",
    "Sudoku.to_DIMAC_file(cnfe, \"final_doku.cnf\", 3)\n",
    "\n",
    "## In the shell run\n",
    "# ./walksat final_doku.cnf"
   ]
  },
  {
   "cell_type": "code",
   "execution_count": null,
   "metadata": {
    "collapsed": true
   },
   "outputs": [],
   "source": [
    "#This cell records the data, saves the data and does the plotting\n",
    "\n",
    "\n",
    "x_cdoku_2 = [8]*15\n",
    "y_cdoku_2 = [149,140,136,65,108,57,83,63,65,76,66,42,156,127,122]\n",
    "\n",
    "x_cdoku_3 = [18]*15\n",
    "y_cdoku_3 = [419,460,358,686,583,466,657,354,535,482,370,506,267,345,460]\n",
    "\n",
    "x_cdoku_4 = [32]*15\n",
    "y_cdoku_4 = [871,960,819,1800,1343,1436,2400,1167,1550,1044,877,908,748,1048,970]\n",
    "\n",
    "\n",
    "x_cdoku_6 = [72]*15\n",
    "y_cdoku_6 = [15500,16688,30367,16759,9972,29764,22453,19455,8249,10093,10326,11517,20650,33145,20412]\n",
    "\n",
    "x_cdoku_7 = [72]*15\n",
    "y_cdoku_7 = [59612,35776,39786,87681,79443,37795,32437,41249,38175,56940,32030,37470,15314,57793,56705]\n",
    "\n",
    "\n",
    "\n",
    "#x_cdoku = [8,18,32,72,98]\n",
    "#y_cdoku = [0,4,18,524,12362]\n",
    "\n",
    "x_doku_2 = [16]*15\n",
    "y_doku_2 = [206,177,193,177,174,126,249,228,149,184,199,135,140,169,193]\n",
    "\n",
    "x_doku_3 = [81]*15\n",
    "y_doku_3 = [5602,5803,8940,6633,6048,7625,6876,6903,5689,7011,8423,6690,11023,7450,8309]\n",
    "\n",
    "x_doku_4 = [256]*12\n",
    "y_doku_4 = [4220269,8667233,3070898,3070898,7202224,5902032,5223092,8112379,8932212,3072828,6432330,7863327]\n",
    "\n",
    "\n",
    "x_all_cdoku = x_cdoku_2+x_cdoku_3+x_cdoku_4+x_cdoku_6+x_cdoku_7\n",
    "x_all_doku = x_doku_2+x_doku_3+x_doku_4\n",
    "\n",
    "y_all_cdoku = y_cdoku_2 +y_cdoku_3+y_cdoku_4+y_cdoku_6+y_cdoku_7\n",
    "y_all_doku = y_doku_2 + y_doku_3+y_doku_4\n",
    "\n",
    "from matplotlib import pyplot as plt\n",
    "import math\n",
    "fig = plt.figure\n",
    "cdoku, = plt.plot(x_all_cdoku,y_all_cdoku, 'ro',label=\"Circledoku\",alpha = 0.4)\n",
    "doku, = plt.plot(x_all_doku,y_all_doku, 'bo', label = \"Sudoku\",alpha = 0.4)\n",
    "\n",
    "plt.legend(handles=[cdoku, doku])\n",
    "plt.xlabel('# of fields')\n",
    "plt.ylabel('average flips per assignment')\n",
    "plt.title('Comparison')\n",
    "#pyplot.xscale('log')\n",
    "#plt.yscale('symlog')\n",
    "plt.savefig('comparison_nonlog.pdf')\n",
    "plt.show()\n"
   ]
  }
 ],
 "metadata": {
  "kernelspec": {
   "display_name": "Python 3",
   "language": "python",
   "name": "python3"
  },
  "language_info": {
   "codemirror_mode": {
    "name": "ipython",
    "version": 3
   },
   "file_extension": ".py",
   "mimetype": "text/x-python",
   "name": "python",
   "nbconvert_exporter": "python",
   "pygments_lexer": "ipython3",
   "version": "3.6.0"
  }
 },
 "nbformat": 4,
 "nbformat_minor": 2
}
