{
 "cells": [
  {
   "cell_type": "code",
   "execution_count": 49,
   "metadata": {},
   "outputs": [
    {
     "data": {
      "image/png": "[encoded data removed]",
      "text/plain": [
       "<matplotlib.figure.Figure at 0x261e36bec88>"
      ]
     },
     "metadata": {},
     "output_type": "display_data"
    }
   ],
   "source": [
    "import numpy as np\n",
    "import random \n",
    "import matplotlib.pyplot as plt\n",
    "\n",
    "ones = np.ones(10)\n",
    "square_n_field = []\n",
    "square_n_field.extend(ones*16)\n",
    "square_n_field.extend(ones*81)\n",
    "square_n_field.extend(ones*256)\n",
    "circle_n_field = []\n",
    "circle_n_field.extend(ones*8)\n",
    "circle_n_field.extend(ones*18)\n",
    "circle_n_field.extend(ones*32)\n",
    "circle_n_field.extend(ones*50)\n",
    "circle_n_field.extend(ones*72)\n",
    "circle_n_field.extend(ones*98)\n",
    "circle_n_field.extend(ones*128)\n",
    "circle_n_field.extend(ones*162)\n",
    "circle_n_field.extend(ones*200)\n",
    "\n",
    "k = 1.02\n",
    "\n",
    "square_complexity = square_n_field.copy()\n",
    "for i in range(len(square_n_field)):\n",
    "    square_complexity[i] = (k**square_n_field[i]) * np.random.normal(1, .2)\n",
    "    \n",
    "circle_complexity = circle_n_field.copy()\n",
    "for i in range(len(circle_n_field)):\n",
    "    circle_complexity[i] = (k**circle_n_field[i]) * np.random.normal(1, .2)\n",
    "\n",
    "# print(square_n_field)\n",
    "# print(square_complexity)\n",
    "\n",
    "# print(circle_n_field)\n",
    "# print(circle_complexity)\n",
    "    \n",
    "plt.plot(square_n_field, square_complexity, 'rx')\n",
    "plt.plot(circle_n_field, circle_complexity, 'bx')\n",
    "plt.ylabel('complexity')\n",
    "plt.xlabel('fields')\n",
    "plt.yscale('log')\n",
    "plt.show()\n"
   ]
  }
 ],
 "metadata": {
  "kernelspec": {
   "display_name": "Python 3",
   "language": "python",
   "name": "python3"
  },
  "language_info": {
   "codemirror_mode": {
    "name": "ipython",
    "version": 3
   },
   "file_extension": ".py",
   "mimetype": "text/x-python",
   "name": "python",
   "nbconvert_exporter": "python",
   "pygments_lexer": "ipython3",
   "version": "3.6.1"
  }
 },
 "nbformat": 4,
 "nbformat_minor": 2
}
