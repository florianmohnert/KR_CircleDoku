{
 "cells": [
  {
   "cell_type": "code",
   "execution_count": 1,
   "metadata": {},
   "outputs": [
    {
     "data": {
      "image/png": "[encoded data removed]",
      "text/plain": [
       "<matplotlib.figure.Figure at 0x1a268d8cac8>"
      ]
     },
     "metadata": {},
     "output_type": "display_data"
    }
   ],
   "source": [
    "import numpy as np\n",
    "import random \n",
    "import matplotlib.pyplot as plt\n",
    "\n",
    "ones = np.ones(10)\n",
    "square_n_field = []\n",
    "square_n_field.extend(ones*16)\n",
    "square_n_field.extend(ones*81)\n",
    "square_n_field.extend(ones*256)\n",
    "circle_n_field = []\n",
    "circle_n_field.extend(ones*8)\n",
    "circle_n_field.extend(ones*18)\n",
    "circle_n_field.extend(ones*32)\n",
    "circle_n_field.extend(ones*50)\n",
    "circle_n_field.extend(ones*72)\n",
    "circle_n_field.extend(ones*98)\n",
    "circle_n_field.extend(ones*128)\n",
    "circle_n_field.extend(ones*162)\n",
    "circle_n_field.extend(ones*200)\n",
    "\n",
    "k = 1.02\n",
    "\n",
    "square_complexity = square_n_field.copy()\n",
    "for i in range(len(square_n_field)):\n",
    "    square_complexity[i] = (k**square_n_field[i]) * np.random.normal(1, .2)\n",
    "    \n",
    "circle_complexity = circle_n_field.copy()\n",
    "for i in range(len(circle_n_field)):\n",
    "    circle_complexity[i] = (k**circle_n_field[i]) * np.random.normal(1, .2)\n",
    "\n",
    "# print(square_n_field)\n",
    "# print(square_complexity)\n",
    "\n",
    "# print(circle_n_field)\n",
    "# print(circle_complexity)\n",
    "    \n",
    "plt.plot(square_n_field, square_complexity, 'rx')\n",
    "plt.plot(circle_n_field, circle_complexity, 'bx')\n",
    "plt.ylabel('complexity')\n",
    "plt.xlabel('fields')\n",
    "plt.yscale('log')\n",
    "plt.show()"
   ]
  },
  {
   "cell_type": "code",
   "execution_count": 16,
   "metadata": {},
   "outputs": [
    {
     "name": "stdout",
     "output_type": "stream",
     "text": [
      "[1.3908770494194638, 1.0193151863762009, 1.8943871598936983, 1.5749576024428078, 1.3862248407459685, 1.1720539170767263, 1.2637173189271591, 1.4957362734169279, 1.2908051161247269, 1.5803935348313203, 7.064001786851497, 5.171841441276376, 4.9378105021818373, 4.8571090412202924, 5.4674313011969273, 1.9300990726563452, 2.5627906033122994, 5.8434499960277133, 6.2811740683434634, 5.8986219494888372, 168.29699398220444, 152.81703291143725, 178.71323539948654, 244.293171256216, 140.39963195246193, 214.80337581461765, 166.36249753640604, 225.41317349229504, 162.57489047212647, 143.03919085393952]\n",
      "1.02016305514\n"
     ]
    }
   ],
   "source": [
    "print(square_complexity)\n",
    "\n",
    "ln_c = square_complexity.copy()\n",
    "for i in range( len(ln_c) ):\n",
    "    ln_c[i] = np.log(square_complexity[i])\n",
    "    \n",
    "k_estimate = np.exp(sum(ln_c)/sum(square_n_field))\n",
    "print(k_estimate)"
   ]
  }
 ],
 "metadata": {
  "kernelspec": {
   "display_name": "Python 3",
   "language": "python",
   "name": "python3"
  },
  "language_info": {
   "codemirror_mode": {
    "name": "ipython",
    "version": 3
   },
   "file_extension": ".py",
   "mimetype": "text/x-python",
   "name": "python",
   "nbconvert_exporter": "python",
   "pygments_lexer": "ipython3",
   "version": "3.6.1"
  }
 },
 "nbformat": 4,
 "nbformat_minor": 2
}
